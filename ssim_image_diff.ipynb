{
 "cells": [
  {
   "cell_type": "code",
   "execution_count": null,
   "id": "03da1de9",
   "metadata": {},
   "outputs": [],
   "source": [
    "# Usage:\n",
    "#\n",
    "# python3 script.py -f original.png -s modified.png\n",
    "# Based on: https://github.com/mostafaGwely/Structural-Similarity-Index-SSIM-"
   ]
  },
  {
   "cell_type": "code",
   "execution_count": 1,
   "id": "c7505b06",
   "metadata": {},
   "outputs": [
    {
     "name": "stderr",
     "output_type": "stream",
     "text": [
      "C:\\Users\\82106\\miniconda3\\envs\\tf24\\lib\\site-packages\\scipy\\__init__.py:146: UserWarning: A NumPy version >=1.16.5 and <1.23.0 is required for this version of SciPy (detected version 1.23.1\n",
      "  warnings.warn(f\"A NumPy version >={np_minversion} and <{np_maxversion}\"\n"
     ]
    }
   ],
   "source": [
    "# 1. Import the necessary packages\n",
    "from skimage.metrics import structural_similarity as ssim \n",
    "import argparse\n",
    "import imutils\n",
    "import cv2\n",
    "from skimage import io"
   ]
  },
  {
   "cell_type": "code",
   "execution_count": null,
   "id": "8d991dfa",
   "metadata": {},
   "outputs": [],
   "source": [
    "# # 2. Construct the argument parse and parse the arguments\n",
    "# ap = argparse.ArgumentParser()\n",
    "# ap.add_argument(\"-f\", \"--first\", required=True, help=\"Directory of the image that will be compared\")\n",
    "# ap.add_argument(\"-s\", \"--second\", required=True, help=\"Directory of the image that will be used to compare\")\n",
    "# args = vars(ap.parse_args())"
   ]
  },
  {
   "cell_type": "code",
   "execution_count": 2,
   "id": "d81294fc",
   "metadata": {},
   "outputs": [],
   "source": [
    "# 3. Load the two input images\n",
    "imageA = cv2.imread('data/1-3.png')\n",
    "imageB = cv2.imread('data/2.png')\n",
    "\n",
    "# 만약 url에서 불러올 거면 다음을 활용\n",
    "#imageA = io.imread(args[\"first\"])\n",
    "#imageB = io.imread(args[\"second\"])"
   ]
  },
  {
   "cell_type": "code",
   "execution_count": 3,
   "id": "cf87ed98",
   "metadata": {},
   "outputs": [],
   "source": [
    "# 4. Convert the images to grayscale\n",
    "grayA = cv2.cvtColor(imageA, cv2.COLOR_BGR2GRAY)\n",
    "grayB = cv2.cvtColor(imageB, cv2.COLOR_BGR2GRAY)"
   ]
  },
  {
   "cell_type": "code",
   "execution_count": 4,
   "id": "ac11a4ef",
   "metadata": {},
   "outputs": [],
   "source": [
    "# 5. Compute the Structural Similarity Index (SSIM) between the two\n",
    "#    images, ensuring that the difference image is returned\n",
    "(score, diff) = ssim(grayA, grayB, full=True)\n",
    "# diff = (diff * 255).astype(\"uint8\")"
   ]
  },
  {
   "cell_type": "code",
   "execution_count": 7,
   "id": "badda08e",
   "metadata": {},
   "outputs": [],
   "source": [
    "# diff가 어떻게 되는지 볼 수 있습니다.\n",
    "cv2.imshow('diff',diff)\n",
    "cv2.waitKey(0)\n",
    "cv2.destroyAllWindows()"
   ]
  },
  {
   "cell_type": "code",
   "execution_count": 6,
   "id": "25a2c46c",
   "metadata": {},
   "outputs": [
    {
     "name": "stdout",
     "output_type": "stream",
     "text": [
      "SSIM: 0.04643487771496043\n"
     ]
    }
   ],
   "source": [
    "# 6. You can print only the score if you want\n",
    "print(\"SSIM: {}\".format(score))"
   ]
  },
  {
   "cell_type": "code",
   "execution_count": null,
   "id": "fed31f6c",
   "metadata": {},
   "outputs": [],
   "source": []
  }
 ],
 "metadata": {
  "kernelspec": {
   "display_name": "Python 3 (ipykernel)",
   "language": "python",
   "name": "python3"
  },
  "language_info": {
   "codemirror_mode": {
    "name": "ipython",
    "version": 3
   },
   "file_extension": ".py",
   "mimetype": "text/x-python",
   "name": "python",
   "nbconvert_exporter": "python",
   "pygments_lexer": "ipython3",
   "version": "3.8.13"
  }
 },
 "nbformat": 4,
 "nbformat_minor": 5
}
