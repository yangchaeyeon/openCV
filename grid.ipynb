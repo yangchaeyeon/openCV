{
 "cells": [
  {
   "cell_type": "code",
   "execution_count": 1,
   "id": "798b57b8",
   "metadata": {},
   "outputs": [],
   "source": [
    "import numpy as np\n",
    "import cv2"
   ]
  },
  {
   "cell_type": "code",
   "execution_count": 2,
   "id": "dc51a5a9",
   "metadata": {},
   "outputs": [],
   "source": [
    "# 이미지를 불러온다.\n",
    "map_img = cv2.imread('p (1).jpg', 0)"
   ]
  },
  {
   "cell_type": "code",
   "execution_count": 3,
   "id": "d30c932e",
   "metadata": {},
   "outputs": [],
   "source": [
    "# 이미지를 원하는 그리드 사이즈로 줄인다(40 × 40)\n",
    "map_img = cv2.resize(map_img, dsize=(40, 40))"
   ]
  },
  {
   "cell_type": "code",
   "execution_count": 4,
   "id": "58351136",
   "metadata": {},
   "outputs": [],
   "source": [
    "# numpy 배열을 만들고,\n",
    "width, height = map_img.shape\n",
    "map = np.zeros((width, height), np.uint8)"
   ]
  },
  {
   "cell_type": "code",
   "execution_count": 5,
   "id": "59af7a2e",
   "metadata": {},
   "outputs": [],
   "source": [
    "# 검정색 픽셀은 0, 나머지 픽셀은 1로 채웠다.\n",
    "for x in range(height):\n",
    "    for y in range(width):\n",
    "        if map_img[x][y] > 0:\n",
    "            map[x][y] = 1\n",
    "        else:\n",
    "            map[x][y] = 0"
   ]
  },
  {
   "cell_type": "code",
   "execution_count": 6,
   "id": "eb7deac5",
   "metadata": {
    "scrolled": false
   },
   "outputs": [
    {
     "data": {
      "text/plain": [
       "array([[0, 0, 0, ..., 0, 0, 0],\n",
       "       [0, 0, 0, ..., 0, 0, 0],\n",
       "       [0, 0, 0, ..., 0, 0, 1],\n",
       "       ...,\n",
       "       [0, 0, 1, ..., 0, 0, 0],\n",
       "       [0, 0, 0, ..., 0, 0, 0],\n",
       "       [0, 0, 0, ..., 0, 0, 0]], dtype=uint8)"
      ]
     },
     "execution_count": 6,
     "metadata": {},
     "output_type": "execute_result"
    }
   ],
   "source": [
    "map"
   ]
  },
  {
   "cell_type": "code",
   "execution_count": null,
   "id": "6fcde3ea",
   "metadata": {},
   "outputs": [],
   "source": []
  }
 ],
 "metadata": {
  "kernelspec": {
   "display_name": "Python 3 (ipykernel)",
   "language": "python",
   "name": "python3"
  },
  "language_info": {
   "codemirror_mode": {
    "name": "ipython",
    "version": 3
   },
   "file_extension": ".py",
   "mimetype": "text/x-python",
   "name": "python",
   "nbconvert_exporter": "python",
   "pygments_lexer": "ipython3",
   "version": "3.8.13"
  }
 },
 "nbformat": 4,
 "nbformat_minor": 5
}
