{
 "cells": [
  {
   "cell_type": "code",
   "execution_count": null,
   "id": "603d71bd",
   "metadata": {},
   "outputs": [],
   "source": [
    "from skimage.metrics import structural_similarity as compare_ssim\n",
    "import imutils\n",
    "import argparse"
   ]
  },
  {
   "cell_type": "code",
   "execution_count": 1,
   "id": "ae44410e",
   "metadata": {},
   "outputs": [],
   "source": [
    "import cv2\n",
    "import numpy as np\n",
    "import matplotlib.pyplot as plt"
   ]
  },
  {
   "cell_type": "code",
   "execution_count": 3,
   "id": "e24a1e1f",
   "metadata": {},
   "outputs": [],
   "source": [
    "# def parse_args():\n",
    "#     parser = argparse.ArgumentParser()\n",
    "#     parser.add_argument(\"original\")\n",
    "#     parser.add_argument(\"modified\")\n",
    "#     return parser.parse_args()"
   ]
  },
  {
   "cell_type": "code",
   "execution_count": 2,
   "id": "0758d925",
   "metadata": {},
   "outputs": [],
   "source": [
    "# args = parse_args()\n",
    "image1 = cv2.imread('data/1-3.png')\n",
    "image2 = cv2.imread('data/2.png')"
   ]
  },
  {
   "cell_type": "code",
   "execution_count": 3,
   "id": "233e1813",
   "metadata": {},
   "outputs": [],
   "source": [
    "cv2.imshow('image1', image1)\n",
    "cv2.waitKey(0)\n",
    "cv2.destroyAllWindows()"
   ]
  },
  {
   "cell_type": "code",
   "execution_count": 7,
   "id": "2d01d2be",
   "metadata": {},
   "outputs": [],
   "source": [
    "# cv2.imshow('image2', image2)"
   ]
  },
  {
   "cell_type": "code",
   "execution_count": 4,
   "id": "c0bfb241",
   "metadata": {},
   "outputs": [],
   "source": [
    "gray1 = cv2.cvtColor(image1, cv2.COLOR_BGR2GRAY)\n",
    "gray2 = cv2.cvtColor(image2, cv2.COLOR_BGR2GRAY)"
   ]
  },
  {
   "cell_type": "code",
   "execution_count": 5,
   "id": "c43d567c",
   "metadata": {},
   "outputs": [
    {
     "name": "stdout",
     "output_type": "stream",
     "text": [
      "SSIM: 0.046435\n"
     ]
    }
   ],
   "source": [
    "score, diff = compare_ssim(gray1, gray2, full=True)\n",
    "# full=True: 이미지 전체에 대해서 구조비교를 수행한다.\n",
    "diff = (diff * 255).astype('uint8')\n",
    "print(f'SSIM: {score:.6f}')"
   ]
  },
  {
   "cell_type": "code",
   "execution_count": null,
   "id": "d6495085",
   "metadata": {},
   "outputs": [],
   "source": []
  }
 ],
 "metadata": {
  "kernelspec": {
   "display_name": "Python 3 (ipykernel)",
   "language": "python",
   "name": "python3"
  },
  "language_info": {
   "codemirror_mode": {
    "name": "ipython",
    "version": 3
   },
   "file_extension": ".py",
   "mimetype": "text/x-python",
   "name": "python",
   "nbconvert_exporter": "python",
   "pygments_lexer": "ipython3",
   "version": "3.8.13"
  }
 },
 "nbformat": 4,
 "nbformat_minor": 5
}
